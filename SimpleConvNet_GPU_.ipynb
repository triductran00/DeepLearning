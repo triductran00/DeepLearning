{
  "nbformat": 4,
  "nbformat_minor": 0,
  "metadata": {
    "colab": {
      "provenance": [],
      "gpuType": "T4",
      "authorship_tag": "ABX9TyPdFnSqBH+wKGIJxhLD+KWA",
      "include_colab_link": true
    },
    "kernelspec": {
      "name": "python3",
      "display_name": "Python 3"
    },
    "language_info": {
      "name": "python"
    },
    "accelerator": "GPU"
  },
  "cells": [
    {
      "cell_type": "markdown",
      "metadata": {
        "id": "view-in-github",
        "colab_type": "text"
      },
      "source": [
        "<a href=\"https://colab.research.google.com/github/triductran00/DeepLearning/blob/main/SimpleConvNet_GPU_.ipynb\" target=\"_parent\"><img src=\"https://colab.research.google.com/assets/colab-badge.svg\" alt=\"Open In Colab\"/></a>"
      ]
    },
    {
      "cell_type": "code",
      "execution_count": null,
      "metadata": {
        "colab": {
          "base_uri": "https://localhost:8080/"
        },
        "id": "TqyPBX_FNNIw",
        "outputId": "9a6437a0-5eb8-4708-d368-3a76283e4973"
      },
      "outputs": [
        {
          "output_type": "stream",
          "name": "stdout",
          "text": [
            "Mounted at /content/drive\n"
          ]
        }
      ],
      "source": [
        "from google.colab import drive\n",
        "drive.mount ('/content/drive')"
      ]
    },
    {
      "cell_type": "code",
      "source": [
        "cd drive/MyDrive/SimpleConvNet-GPU"
      ],
      "metadata": {
        "colab": {
          "base_uri": "https://localhost:8080/"
        },
        "id": "yR1KK3z4NPIh",
        "outputId": "3727012f-4089-4aa4-e6fc-128692fe6706"
      },
      "execution_count": null,
      "outputs": [
        {
          "output_type": "stream",
          "name": "stdout",
          "text": [
            "/content/drive/MyDrive/SimpleConvNet-GPU\n"
          ]
        }
      ]
    },
    {
      "cell_type": "code",
      "source": [
        "# coding: utf-8\n",
        "import cupy as np\n",
        "import matplotlib.pyplot as plt\n",
        "from mnist import load_mnist\n",
        "from simple_convnet import SimpleConvNet\n",
        "from optimizer import *\n",
        "\n",
        "\n",
        "# 0:Load MNIST data\n",
        "(x_train, t_train), (x_test, t_test) = load_mnist(flatten=False)\n",
        "\n",
        "x_train, t_train = x_train[:5000], t_train[:5000]\n",
        "x_test, t_test = x_test[:1000], t_test[:1000]\n",
        "\n",
        "# 1:Settings\n",
        "network = SimpleConvNet(input_dim=(1,28,28),\n",
        "                        conv_param = {'filter_num': 30, 'filter_size': 5, 'pad': 0, 'stride': 1},\n",
        "                        hidden_size=100, output_size=10, weight_init_std=0.01)\n",
        "optimizer = Adam()   #SGD(lr=0.01)\n",
        "max_epochs = 20\n",
        "train_size = x_train.shape[0]\n",
        "batch_size = 100\n",
        "iter_per_epoch = max(train_size / batch_size, 1)\n",
        "max_iter = int(max_epochs * iter_per_epoch)\n",
        "\n",
        "train_loss_list = []\n",
        "train_acc_list = []\n",
        "test_acc_list = []\n",
        "\n",
        "epoch_cnt = 0\n",
        "\n",
        "for i in range(max_iter):\n",
        "    batch_mask = np.random.choice(train_size, batch_size).get()\n",
        "    x_batch = x_train[batch_mask]\n",
        "    t_batch = t_train[batch_mask]\n",
        "\n",
        "    grads = network.gradient(np.asarray(x_batch), np.asarray(t_batch))\n",
        "    optimizer.update(network.params, grads)\n",
        "\n",
        "    if i % iter_per_epoch == 0:\n",
        "        train_acc = network.accuracy(np.asarray(x_train), np.asarray(t_train))\n",
        "        test_acc = network.accuracy(np.asarray(x_test), np.asarray(t_test))\n",
        "        train_acc_list.append(train_acc)\n",
        "        test_acc_list.append(test_acc)\n",
        "\n",
        "        print(\"epoch:\" + str(epoch_cnt) + \", train acc:\" + str(train_acc) + \", test acc:\" + str(test_acc))\n",
        "\n",
        "        epoch_cnt += 1\n",
        "        if epoch_cnt >= max_epochs:\n",
        "            break\n",
        "\n",
        "\n",
        "# Plot\n",
        "markers = {'train': 'o', 'test': 's'}\n",
        "x = np.arange(max_epochs)\n",
        "plt.plot(x.get(), np.asarray(train_acc_list).get(), marker='o', label='train', markevery=2)\n",
        "plt.plot(x.get(), np.asarray(test_acc_list).get(), marker='s', label='test', markevery=2)\n",
        "plt.xlabel(\"epochs\")\n",
        "plt.ylabel(\"accuracy\")\n",
        "plt.ylim(0, 1.0)\n",
        "plt.legend(loc='lower right')\n",
        "plt.show()"
      ],
      "metadata": {
        "colab": {
          "base_uri": "https://localhost:8080/",
          "height": 818
        },
        "id": "U4kNbx9iNRJa",
        "outputId": "56a237be-4346-4e7d-893a-8ea8221e2d8f"
      },
      "execution_count": null,
      "outputs": [
        {
          "output_type": "stream",
          "name": "stdout",
          "text": [
            "epoch:0, train acc:0.0986, test acc:0.107\n",
            "epoch:1, train acc:0.815, test acc:0.769\n",
            "epoch:2, train acc:0.879, test acc:0.855\n",
            "epoch:3, train acc:0.8812, test acc:0.858\n",
            "epoch:4, train acc:0.9122, test acc:0.892\n",
            "epoch:5, train acc:0.9282, test acc:0.896\n",
            "epoch:6, train acc:0.9388, test acc:0.914\n",
            "epoch:7, train acc:0.951, test acc:0.92\n",
            "epoch:8, train acc:0.9546, test acc:0.923\n",
            "epoch:9, train acc:0.9634, test acc:0.933\n",
            "epoch:10, train acc:0.9678, test acc:0.938\n",
            "epoch:11, train acc:0.9704, test acc:0.935\n",
            "epoch:12, train acc:0.975, test acc:0.937\n",
            "epoch:13, train acc:0.982, test acc:0.947\n",
            "epoch:14, train acc:0.9852, test acc:0.953\n",
            "epoch:15, train acc:0.988, test acc:0.949\n",
            "epoch:16, train acc:0.989, test acc:0.95\n",
            "epoch:17, train acc:0.9906, test acc:0.95\n",
            "epoch:18, train acc:0.9922, test acc:0.954\n",
            "epoch:19, train acc:0.9944, test acc:0.956\n"
          ]
        },
        {
          "output_type": "display_data",
          "data": {
            "text/plain": [
              "<Figure size 640x480 with 1 Axes>"
            ],
            "image/png": "[encoded data removed]"
          },
          "metadata": {}
        }
      ]
    }
  ]
}