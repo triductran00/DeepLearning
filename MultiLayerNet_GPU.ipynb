{
  "nbformat": 4,
  "nbformat_minor": 0,
  "metadata": {
    "colab": {
      "provenance": [],
      "gpuType": "T4",
      "authorship_tag": "ABX9TyO38DQkmvQTNeawk5ejSqce",
      "include_colab_link": true
    },
    "kernelspec": {
      "name": "python3",
      "display_name": "Python 3"
    },
    "language_info": {
      "name": "python"
    },
    "accelerator": "GPU"
  },
  "cells": [
    {
      "cell_type": "markdown",
      "metadata": {
        "id": "view-in-github",
        "colab_type": "text"
      },
      "source": [
        "<a href=\"https://colab.research.google.com/github/triductran00/DeepLearning/blob/main/MultiLayerNet_GPU.ipynb\" target=\"_parent\"><img src=\"https://colab.research.google.com/assets/colab-badge.svg\" alt=\"Open In Colab\"/></a>"
      ]
    },
    {
      "cell_type": "code",
      "execution_count": null,
      "metadata": {
        "colab": {
          "base_uri": "https://localhost:8080/"
        },
        "id": "Ge_ihZyd7-s2",
        "outputId": "2cd7d957-dc88-4264-bb69-4b4fccf02842"
      },
      "outputs": [
        {
          "output_type": "stream",
          "name": "stdout",
          "text": [
            "Mounted at /content/drive\n"
          ]
        }
      ],
      "source": [
        "from google.colab import drive\n",
        "drive.mount ('/content/drive')"
      ]
    },
    {
      "cell_type": "code",
      "source": [
        "cd drive/MyDrive/MultiLayerNet-GPU"
      ],
      "metadata": {
        "colab": {
          "base_uri": "https://localhost:8080/"
        },
        "id": "9R_zWL8v8xDh",
        "outputId": "31ae565e-e3f3-44fd-a35d-11bb19a04e19"
      },
      "execution_count": null,
      "outputs": [
        {
          "output_type": "stream",
          "name": "stdout",
          "text": [
            "/content/drive/MyDrive/MultiLayerNet-GPU\n"
          ]
        }
      ]
    },
    {
      "cell_type": "code",
      "source": [
        "# coding: utf-8\n",
        "import matplotlib.pyplot as plt\n",
        "from mnist import load_mnist\n",
        "from multi_layer_net import MultiLayerNet\n",
        "from optimizer import *\n",
        "import cupy as np\n",
        "\n",
        "# 0:Load MNIST data\n",
        "(x_train, t_train), (x_test, t_test) = load_mnist(normalize=True, one_hot_label=True)\n",
        "\n",
        "x_train = x_train[:3000]\n",
        "t_train = t_train[:3000]\n",
        "\n",
        "\n",
        "# 1:Settings\n",
        "network = MultiLayerNet(input_size=784, hidden_size_list=[100, 100, 100, 100], output_size=10)\n",
        "optimizer = SGD(lr=0.01)\n",
        "max_epochs = 101\n",
        "train_size = x_train.shape[0]\n",
        "batch_size = 100\n",
        "\n",
        "train_loss_list = []\n",
        "train_acc_list = []\n",
        "test_acc_list = []\n",
        "\n",
        "iter_per_epoch = max(train_size / batch_size, 1)\n",
        "max_iter = int(max_epochs * iter_per_epoch)\n",
        "epoch_cnt = 0\n",
        "\n",
        "\n",
        "for i in range(max_iter):\n",
        "    batch_mask = np.random.choice(train_size, batch_size).get()\n",
        "    x_batch = x_train[batch_mask]\n",
        "    t_batch = t_train[batch_mask]\n",
        "\n",
        "    grads = network.gradient(np.asarray(x_batch), np.asarray(t_batch))\n",
        "    optimizer.update(network.params, grads)\n",
        "\n",
        "    if i % iter_per_epoch == 0:\n",
        "        train_acc = network.accuracy(np.asarray(x_train), np.asarray(t_train))\n",
        "        test_acc = network.accuracy(np.asarray(x_test), np.asarray(t_test))\n",
        "        train_acc_list.append(train_acc)\n",
        "        test_acc_list.append(test_acc)\n",
        "\n",
        "        print(\"epoch:\" + str(epoch_cnt) + \", train acc:\" + str(train_acc) + \", test acc:\" + str(test_acc))\n",
        "\n",
        "        epoch_cnt += 1\n",
        "        if epoch_cnt >= max_epochs:\n",
        "            break\n",
        "\n",
        "\n",
        "# plotting\n",
        "markers = {'train': 'o', 'test': 's'}\n",
        "x = np.arange(max_epochs)\n",
        "plt.plot(x.get(), np.asarray(train_acc_list).get(), marker='o', label='train', markevery=10)\n",
        "plt.plot(x.get(), np.asarray(test_acc_list).get(), marker='s', label='test', markevery=10)\n",
        "plt.xlabel(\"epochs\")\n",
        "plt.ylabel(\"accuracy\")\n",
        "plt.ylim(0, 1.0)\n",
        "plt.legend(loc='lower right')\n",
        "plt.show()\n"
      ],
      "metadata": {
        "colab": {
          "base_uri": "https://localhost:8080/",
          "height": 1000
        },
        "id": "VUi3lQCz9AeY",
        "outputId": "53bceb9e-1a93-49dc-ea1b-513548ca7c94"
      },
      "execution_count": null,
      "outputs": [
        {
          "output_type": "stream",
          "name": "stdout",
          "text": [
            "Converting train-images-idx3-ubyte.gz to NumPy Array ...\n",
            "Done\n",
            "Converting train-labels-idx1-ubyte.gz to NumPy Array ...\n",
            "Done\n",
            "Converting t10k-images-idx3-ubyte.gz to NumPy Array ...\n",
            "Done\n",
            "Converting t10k-labels-idx1-ubyte.gz to NumPy Array ...\n",
            "Done\n",
            "Creating pickle file ...\n",
            "Done!\n",
            "epoch:0, train acc:0.116, test acc:0.1067\n",
            "epoch:1, train acc:0.29133333333333333, test acc:0.2724\n",
            "epoch:2, train acc:0.4666666666666667, test acc:0.4312\n",
            "epoch:3, train acc:0.6226666666666667, test acc:0.5817\n",
            "epoch:4, train acc:0.7103333333333334, test acc:0.6786\n",
            "epoch:5, train acc:0.7653333333333333, test acc:0.7312\n",
            "epoch:6, train acc:0.7926666666666666, test acc:0.753\n",
            "epoch:7, train acc:0.8123333333333334, test acc:0.7811\n",
            "epoch:8, train acc:0.8226666666666667, test acc:0.7981\n",
            "epoch:9, train acc:0.8403333333333334, test acc:0.8093\n",
            "epoch:10, train acc:0.8483333333333334, test acc:0.8198\n",
            "epoch:11, train acc:0.8623333333333333, test acc:0.8324\n",
            "epoch:12, train acc:0.867, test acc:0.8388\n",
            "epoch:13, train acc:0.8736666666666667, test acc:0.8445\n",
            "epoch:14, train acc:0.8833333333333333, test acc:0.849\n",
            "epoch:15, train acc:0.8856666666666667, test acc:0.8501\n",
            "epoch:16, train acc:0.8913333333333333, test acc:0.8557\n",
            "epoch:17, train acc:0.8963333333333333, test acc:0.8632\n",
            "epoch:18, train acc:0.9033333333333333, test acc:0.8664\n",
            "epoch:19, train acc:0.9076666666666666, test acc:0.8702\n",
            "epoch:20, train acc:0.9113333333333333, test acc:0.8695\n",
            "epoch:21, train acc:0.9126666666666666, test acc:0.876\n",
            "epoch:22, train acc:0.918, test acc:0.8766\n",
            "epoch:23, train acc:0.9213333333333333, test acc:0.8768\n",
            "epoch:24, train acc:0.924, test acc:0.8781\n",
            "epoch:25, train acc:0.9246666666666666, test acc:0.8823\n",
            "epoch:26, train acc:0.9306666666666666, test acc:0.8834\n",
            "epoch:27, train acc:0.9313333333333333, test acc:0.8865\n",
            "epoch:28, train acc:0.936, test acc:0.8874\n",
            "epoch:29, train acc:0.9343333333333333, test acc:0.8863\n",
            "epoch:30, train acc:0.928, test acc:0.8838\n",
            "epoch:31, train acc:0.9366666666666666, test acc:0.888\n",
            "epoch:32, train acc:0.942, test acc:0.8917\n",
            "epoch:33, train acc:0.946, test acc:0.8941\n",
            "epoch:34, train acc:0.9456666666666667, test acc:0.8932\n",
            "epoch:35, train acc:0.946, test acc:0.894\n",
            "epoch:36, train acc:0.9473333333333334, test acc:0.8945\n",
            "epoch:37, train acc:0.9476666666666667, test acc:0.8929\n",
            "epoch:38, train acc:0.952, test acc:0.8977\n",
            "epoch:39, train acc:0.9503333333333334, test acc:0.8975\n",
            "epoch:40, train acc:0.9506666666666667, test acc:0.9\n",
            "epoch:41, train acc:0.953, test acc:0.8983\n",
            "epoch:42, train acc:0.9563333333333334, test acc:0.9002\n",
            "epoch:43, train acc:0.9566666666666667, test acc:0.8997\n",
            "epoch:44, train acc:0.9596666666666667, test acc:0.8984\n",
            "epoch:45, train acc:0.9573333333333334, test acc:0.9005\n",
            "epoch:46, train acc:0.9603333333333334, test acc:0.9003\n",
            "epoch:47, train acc:0.9603333333333334, test acc:0.8986\n",
            "epoch:48, train acc:0.962, test acc:0.9027\n",
            "epoch:49, train acc:0.9626666666666667, test acc:0.9027\n",
            "epoch:50, train acc:0.966, test acc:0.9032\n",
            "epoch:51, train acc:0.9646666666666667, test acc:0.9043\n",
            "epoch:52, train acc:0.9646666666666667, test acc:0.9039\n",
            "epoch:53, train acc:0.9686666666666667, test acc:0.9045\n",
            "epoch:54, train acc:0.9696666666666667, test acc:0.9047\n",
            "epoch:55, train acc:0.9696666666666667, test acc:0.9053\n",
            "epoch:56, train acc:0.9723333333333334, test acc:0.905\n",
            "epoch:57, train acc:0.9716666666666667, test acc:0.9059\n",
            "epoch:58, train acc:0.97, test acc:0.9027\n",
            "epoch:59, train acc:0.972, test acc:0.9054\n",
            "epoch:60, train acc:0.9746666666666667, test acc:0.9058\n",
            "epoch:61, train acc:0.9753333333333334, test acc:0.9071\n",
            "epoch:62, train acc:0.9746666666666667, test acc:0.9061\n",
            "epoch:63, train acc:0.9736666666666667, test acc:0.9027\n",
            "epoch:64, train acc:0.9746666666666667, test acc:0.9055\n",
            "epoch:65, train acc:0.9756666666666667, test acc:0.9085\n",
            "epoch:66, train acc:0.9786666666666667, test acc:0.9075\n",
            "epoch:67, train acc:0.9793333333333333, test acc:0.9046\n",
            "epoch:68, train acc:0.9786666666666667, test acc:0.9076\n",
            "epoch:69, train acc:0.9793333333333333, test acc:0.9064\n",
            "epoch:70, train acc:0.9783333333333334, test acc:0.9074\n",
            "epoch:71, train acc:0.9773333333333334, test acc:0.9046\n",
            "epoch:72, train acc:0.9806666666666667, test acc:0.9083\n",
            "epoch:73, train acc:0.9793333333333333, test acc:0.908\n",
            "epoch:74, train acc:0.981, test acc:0.9082\n",
            "epoch:75, train acc:0.982, test acc:0.9082\n",
            "epoch:76, train acc:0.9836666666666667, test acc:0.9083\n",
            "epoch:77, train acc:0.984, test acc:0.9086\n",
            "epoch:78, train acc:0.984, test acc:0.9089\n",
            "epoch:79, train acc:0.9856666666666667, test acc:0.9085\n",
            "epoch:80, train acc:0.986, test acc:0.9082\n",
            "epoch:81, train acc:0.9866666666666667, test acc:0.9069\n",
            "epoch:82, train acc:0.9873333333333333, test acc:0.9101\n",
            "epoch:83, train acc:0.9876666666666667, test acc:0.909\n",
            "epoch:84, train acc:0.9883333333333333, test acc:0.9092\n",
            "epoch:85, train acc:0.987, test acc:0.9103\n",
            "epoch:86, train acc:0.988, test acc:0.9101\n",
            "epoch:87, train acc:0.9893333333333333, test acc:0.9111\n",
            "epoch:88, train acc:0.99, test acc:0.9095\n",
            "epoch:89, train acc:0.9903333333333333, test acc:0.9088\n",
            "epoch:90, train acc:0.9893333333333333, test acc:0.9106\n",
            "epoch:91, train acc:0.9893333333333333, test acc:0.9098\n",
            "epoch:92, train acc:0.99, test acc:0.9086\n",
            "epoch:93, train acc:0.991, test acc:0.91\n",
            "epoch:94, train acc:0.9903333333333333, test acc:0.9093\n",
            "epoch:95, train acc:0.991, test acc:0.9088\n",
            "epoch:96, train acc:0.9926666666666667, test acc:0.9089\n",
            "epoch:97, train acc:0.992, test acc:0.9074\n",
            "epoch:98, train acc:0.9926666666666667, test acc:0.9098\n",
            "epoch:99, train acc:0.9916666666666667, test acc:0.9095\n",
            "epoch:100, train acc:0.993, test acc:0.9092\n"
          ]
        },
        {
          "output_type": "display_data",
          "data": {
            "text/plain": [
              "<Figure size 640x480 with 1 Axes>"
            ],
            "image/png": "[encoded data removed]"
          },
          "metadata": {}
        }
      ]
    }
  ]
}